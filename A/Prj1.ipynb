{
 "cells": [
  {
   "cell_type": "code",
   "execution_count": 83,
   "metadata": {},
   "outputs": [
    {
     "name": "stdout",
     "output_type": "stream",
     "text": [
      "1\n",
      "2\n",
      "Fizz\n",
      "4\n",
      "Buzz\n",
      "Fizz\n",
      "7\n",
      "8\n",
      "Fizz\n",
      "Buzz\n",
      "11\n",
      "Fizz\n",
      "13\n",
      "14\n",
      "FizzBuzz\n",
      "16\n",
      "17\n",
      "Fizz\n",
      "19\n",
      "Buzz\n",
      "Fizz\n",
      "22\n",
      "23\n",
      "Fizz\n",
      "Buzz\n",
      "26\n",
      "Fizz\n",
      "28\n",
      "29\n",
      "FizzBuzz\n",
      "31\n",
      "32\n",
      "Fizz\n",
      "34\n",
      "Buzz\n",
      "Fizz\n",
      "37\n",
      "38\n",
      "Fizz\n",
      "Buzz\n",
      "41\n",
      "Fizz\n",
      "43\n",
      "44\n",
      "FizzBuzz\n",
      "46\n",
      "47\n",
      "Fizz\n",
      "49\n",
      "Buzz\n",
      "Fizz\n",
      "52\n",
      "53\n",
      "Fizz\n",
      "Buzz\n",
      "56\n",
      "Fizz\n",
      "58\n",
      "59\n",
      "FizzBuzz\n",
      "61\n",
      "62\n",
      "Fizz\n",
      "64\n",
      "Buzz\n",
      "Fizz\n",
      "67\n",
      "68\n",
      "Fizz\n",
      "Buzz\n",
      "71\n",
      "Fizz\n",
      "73\n",
      "74\n",
      "FizzBuzz\n",
      "76\n",
      "77\n",
      "Fizz\n",
      "79\n",
      "Buzz\n",
      "Fizz\n",
      "82\n",
      "83\n",
      "Fizz\n",
      "Buzz\n",
      "86\n",
      "Fizz\n",
      "88\n",
      "89\n",
      "FizzBuzz\n",
      "91\n",
      "92\n",
      "Fizz\n",
      "94\n",
      "Buzz\n",
      "Fizz\n",
      "97\n",
      "98\n",
      "Fizz\n",
      "Buzz\n"
     ]
    }
   ],
   "source": [
    "#Job 1.1\n",
    "for i in range(1, 101):\n",
    "    # multiple of 3 or 5\n",
    "    if i % 3 == 0 and i % 5 == 0:\n",
    "        print(\"FizzBuzz\")\n",
    "\n",
    "    # multiple of 3 \n",
    "    elif i % 3 == 0:\n",
    "        print(\"Fizz\")\n",
    "    \n",
    "    # multiple of 3 or 5\n",
    "    elif i % 5 == 0:\n",
    "        print(\"Buzz\")\n",
    "    else:\n",
    "        print(i)\n"
   ]
  },
  {
   "cell_type": "code",
   "execution_count": 84,
   "metadata": {},
   "outputs": [
    {
     "name": "stdout",
     "output_type": "stream",
     "text": [
      "|--------|\n",
      "|        |\n",
      "|--------|\n",
      "\n"
     ]
    }
   ],
   "source": [
    "#Job 1.2\n",
    "def draw_rectangle(width, height):\n",
    "    border = \"|\" + \"-\" * (width - 2) + \"|\\n\"\n",
    "\n",
    "    print(border + \"|\" + \" \" * (width - 2) + \"|\\n\" * (height - 2) + border)\n",
    "\n",
    "# Exemple:\n",
    "draw_rectangle(10, 3)"
   ]
  },
  {
   "cell_type": "code",
   "execution_count": 85,
   "metadata": {},
   "outputs": [
    {
     "name": "stdout",
     "output_type": "stream",
     "text": [
      "    /\\\n",
      "   /  \\\n",
      "  /    \\\n",
      " /      \\\n",
      "/________\\\n"
     ]
    }
   ],
   "source": [
    "#Job 1.3\n",
    "def draw_triangle(height):\n",
    "    for i in range(height):\n",
    "        if i == height - 1:\n",
    "            print('/' + '_' * (2 * i) + '\\\\')\n",
    "        else:\n",
    "            print(' ' * (height - i - 1) + '/' + ' ' * (2 * i) + '\\\\')\n",
    "\n",
    "# Exemple:\n",
    "draw_triangle(5)"
   ]
  },
  {
   "cell_type": "code",
   "execution_count": 86,
   "metadata": {},
   "outputs": [
    {
     "name": "stdout",
     "output_type": "stream",
     "text": [
      "[87, 82, 75, 37, 95, 41]\n"
     ]
    }
   ],
   "source": [
    "#Job 1.4\n",
    "def round_grades(grades):\n",
    "    rounded_grades = []\n",
    "    for grade in grades:\n",
    "        if grade < 40:\n",
    "            rounded_grades.append(grade)\n",
    "        if grade >40:\n",
    "            next_multiple_of_5 = ((grade + 4) // 5) * 5\n",
    "            if next_multiple_of_5 - grade < 3:\n",
    "                rounded_grades.append(next_multiple_of_5)\n",
    "            else:\n",
    "                rounded_grades.append(grade)\n",
    "    return rounded_grades\n",
    "\n",
    "# Exemple:\n",
    "grades = [87, 82, 75, 37, 94,41]\n",
    "rounded_grades = round_grades(grades)\n",
    "print(rounded_grades)\n"
   ]
  },
  {
   "cell_type": "code",
   "execution_count": 100,
   "metadata": {},
   "outputs": [
    {
     "name": "stdout",
     "output_type": "stream",
     "text": [
      "The reorganized word is: abcdz\n"
     ]
    }
   ],
   "source": [
    "#Job 1.5\n",
    "def final_word(word):\n",
    "    list_user = sorted(list(word))\n",
    "    \n",
    "    new_word = ''.join(list_user)\n",
    "    \n",
    "    return new_word\n",
    "\n",
    "def word():\n",
    "    input_user = input(\"Enter a word without spaces or special characters:\").lower()\n",
    "    \n",
    "    # Vérifier que l'entrée est constituée uniquement de lettres de l'alphabet\n",
    "    if not input_user.isalpha():\n",
    "        print(\"The word must contain only letters of the alphabet.\")\n",
    "    else:\n",
    "        new_word = final_word(input_user)\n",
    "        print(\"The reorganized word is:\", new_word)\n",
    "if __name__ == \"__main__\":\n",
    "    word()\n"
   ]
  }
 ],
 "metadata": {
  "kernelspec": {
   "display_name": "base",
   "language": "python",
   "name": "python3"
  },
  "language_info": {
   "codemirror_mode": {
    "name": "ipython",
    "version": 3
   },
   "file_extension": ".py",
   "mimetype": "text/x-python",
   "name": "python",
   "nbconvert_exporter": "python",
   "pygments_lexer": "ipython3",
   "version": "3.11.4"
  },
  "orig_nbformat": 4
 },
 "nbformat": 4,
 "nbformat_minor": 2
}
